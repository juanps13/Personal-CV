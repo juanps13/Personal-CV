{
 "cells": [
  {
   "cell_type": "code",
   "execution_count": 131,
   "metadata": {},
   "outputs": [],
   "source": [
    "import numpy as np\n",
    "import pandas as pd\n",
    "import openpyxl as xl\n",
    "import matplotlib.pyplot as plt\n",
    "from scipy import stats\n",
    "from scipy.stats import shapiro, f_oneway\n",
    "from sklearn.cluster import KMeans\n",
    "import pandas as pd"
   ]
  },
  {
   "cell_type": "code",
   "execution_count": 132,
   "metadata": {},
   "outputs": [],
   "source": [
    "# Creating a dataframe\n",
    "df = pd.read_excel('data_telecommunications.xlsx')"
   ]
  },
  {
   "cell_type": "code",
   "execution_count": 133,
   "metadata": {},
   "outputs": [
    {
     "data": {
      "text/html": [
       "<div>\n",
       "<style scoped>\n",
       "    .dataframe tbody tr th:only-of-type {\n",
       "        vertical-align: middle;\n",
       "    }\n",
       "\n",
       "    .dataframe tbody tr th {\n",
       "        vertical-align: top;\n",
       "    }\n",
       "\n",
       "    .dataframe thead th {\n",
       "        text-align: right;\n",
       "    }\n",
       "</style>\n",
       "<table border=\"1\" class=\"dataframe\">\n",
       "  <thead>\n",
       "    <tr style=\"text-align: right;\">\n",
       "      <th></th>\n",
       "      <th>id</th>\n",
       "      <th>may</th>\n",
       "      <th>august</th>\n",
       "    </tr>\n",
       "  </thead>\n",
       "  <tbody>\n",
       "    <tr>\n",
       "      <th>0</th>\n",
       "      <td>1</td>\n",
       "      <td>34.92</td>\n",
       "      <td>37.21</td>\n",
       "    </tr>\n",
       "    <tr>\n",
       "      <th>1</th>\n",
       "      <td>2</td>\n",
       "      <td>53.77</td>\n",
       "      <td>56.89</td>\n",
       "    </tr>\n",
       "    <tr>\n",
       "      <th>2</th>\n",
       "      <td>3</td>\n",
       "      <td>50.82</td>\n",
       "      <td>54.10</td>\n",
       "    </tr>\n",
       "    <tr>\n",
       "      <th>3</th>\n",
       "      <td>4</td>\n",
       "      <td>41.97</td>\n",
       "      <td>45.25</td>\n",
       "    </tr>\n",
       "    <tr>\n",
       "      <th>4</th>\n",
       "      <td>5</td>\n",
       "      <td>44.43</td>\n",
       "      <td>47.87</td>\n",
       "    </tr>\n",
       "  </tbody>\n",
       "</table>\n",
       "</div>"
      ],
      "text/plain": [
       "   id    may  august\n",
       "0   1  34.92   37.21\n",
       "1   2  53.77   56.89\n",
       "2   3  50.82   54.10\n",
       "3   4  41.97   45.25\n",
       "4   5  44.43   47.87"
      ]
     },
     "execution_count": 133,
     "metadata": {},
     "output_type": "execute_result"
    }
   ],
   "source": [
    "# Exploring the dataset\n",
    "df.head()"
   ]
  },
  {
   "cell_type": "markdown",
   "metadata": {},
   "source": [
    "# Data cleaning"
   ]
  },
  {
   "cell_type": "code",
   "execution_count": 134,
   "metadata": {},
   "outputs": [
    {
     "name": "stdout",
     "output_type": "stream",
     "text": [
      "Total rows:\n",
      " 500\n"
     ]
    }
   ],
   "source": [
    "# Count the number of rows in the dataset, it should be 500\n",
    "print(\"Total rows:\\n\", df.shape[0])"
   ]
  },
  {
   "cell_type": "code",
   "execution_count": 135,
   "metadata": {},
   "outputs": [
    {
     "name": "stdout",
     "output_type": "stream",
     "text": [
      "Duplicate IDs: []\n"
     ]
    }
   ],
   "source": [
    "# Check for duplicate IDs\n",
    "print(\"Duplicate IDs:\", df[df.duplicated(['id'], keep=False)]['id'].unique()) "
   ]
  },
  {
   "cell_type": "code",
   "execution_count": 136,
   "metadata": {},
   "outputs": [
    {
     "name": "stdout",
     "output_type": "stream",
     "text": [
      "Missing values:\n",
      " id        0\n",
      "may       1\n",
      "august    0\n",
      "dtype: int64\n"
     ]
    }
   ],
   "source": [
    "# Explore missing values\n",
    "print(\"Missing values:\\n\", df.isnull().sum())"
   ]
  },
  {
   "cell_type": "code",
   "execution_count": 137,
   "metadata": {},
   "outputs": [
    {
     "name": "stdout",
     "output_type": "stream",
     "text": [
      "Total rows:\n",
      " 499\n",
      "\n",
      "Missing values:\n",
      " id        0\n",
      "may       0\n",
      "august    0\n",
      "dtype: int64\n"
     ]
    }
   ],
   "source": [
    "# Since the missing value is only one and we cannot recover the data, we will remove it\n",
    "df = df.dropna()\n",
    "\n",
    "print(\"Total rows:\\n\", df.shape[0])\n",
    "print(\"\\nMissing values:\\n\", df.isnull().sum())"
   ]
  },
  {
   "cell_type": "code",
   "execution_count": 138,
   "metadata": {},
   "outputs": [
    {
     "name": "stdout",
     "output_type": "stream",
     "text": [
      "Data types:\n",
      " id          int64\n",
      "may       float64\n",
      "august    float64\n",
      "dtype: object\n"
     ]
    }
   ],
   "source": [
    "# Check for data types\n",
    "print(\"Data types:\\n\", df.dtypes)"
   ]
  },
  {
   "cell_type": "code",
   "execution_count": 139,
   "metadata": {},
   "outputs": [
    {
     "name": "stdout",
     "output_type": "stream",
     "text": [
      "Empty DataFrame\n",
      "Columns: [id, may, august]\n",
      "Index: []\n"
     ]
    }
   ],
   "source": [
    "# Check there are no values below 0\n",
    "print(df[(df['may'] < 0) | (df['august'] < 0)])"
   ]
  },
  {
   "cell_type": "markdown",
   "metadata": {},
   "source": [
    "# Data Explotarion"
   ]
  },
  {
   "cell_type": "code",
   "execution_count": 140,
   "metadata": {},
   "outputs": [
    {
     "name": "stdout",
     "output_type": "stream",
     "text": [
      "               id         may      august\n",
      "count  499.000000  499.000000  499.000000\n",
      "mean   250.078156   46.691222   49.256032\n",
      "std    144.318270    8.248403    8.917068\n",
      "min      1.000000   22.470000   24.010000\n",
      "25%    125.500000   41.300000   43.665000\n",
      "50%    250.000000   46.560000   49.510000\n",
      "75%    374.500000   51.920000   55.120000\n",
      "max    500.000000   69.840000   79.990000\n"
     ]
    }
   ],
   "source": [
    "# Descriptive statistics\n",
    "print(df.describe())"
   ]
  },
  {
   "cell_type": "code",
   "execution_count": 141,
   "metadata": {},
   "outputs": [
    {
     "name": "stdout",
     "output_type": "stream",
     "text": [
      "\n",
      "Outliers in 'may':\n",
      "       id    may  august\n",
      "16    17  69.84   72.95\n",
      "142  143  69.47   61.98\n",
      "277  278  22.47   54.75\n",
      "313  314  68.35   43.13\n",
      "392  393  24.16   53.10\n",
      "\n",
      "Outliers in 'august':\n",
      "       id    may  august\n",
      "16    17  69.84   72.95\n",
      "31    32  63.61   72.79\n",
      "86    87  67.21   73.77\n",
      "153  154  42.63   75.78\n",
      "286  287  37.74   24.01\n",
      "298  299  38.59   24.95\n",
      "389  390  32.69   25.55\n",
      "478  479  54.79   79.99\n"
     ]
    }
   ],
   "source": [
    "# Check for outliers\n",
    "\n",
    "Q1 = df['may'].quantile(0.25)\n",
    "Q3 = df['may'].quantile(0.75)\n",
    "IQR = Q3 - Q1\n",
    "outliers = df[(df['may'] < (Q1 - 1.5 * IQR)) | (df['may'] > (Q3 + 1.5 * IQR))]\n",
    "print(\"\\nOutliers in 'may':\\n\", outliers) \n",
    "\n",
    "Q1 = df['august'].quantile(0.25)\n",
    "Q3 = df['august'].quantile(0.75)\n",
    "IQR = Q3 - Q1\n",
    "outliers = df[(df['august'] < (Q1 - 1.5 * IQR)) | (df['august'] > (Q3 + 1.5 * IQR))]\n",
    "print(\"\\nOutliers in 'august':\\n\", outliers) "
   ]
  },
  {
   "cell_type": "markdown",
   "metadata": {},
   "source": [
    "The 'outliers' seem to be reasonable values, therefore we will keep them."
   ]
  },
  {
   "cell_type": "code",
   "execution_count": 142,
   "metadata": {},
   "outputs": [
    {
     "data": {
      "image/png": "[encoded data removed]",
      "text/plain": [
       "<Figure size 1200x600 with 2 Axes>"
      ]
     },
     "metadata": {},
     "output_type": "display_data"
    }
   ],
   "source": [
    "# Crear los histogramas\n",
    "plt.figure(figsize=(12, 6))\n",
    "\n",
    "plt.subplot(1, 2, 1)\n",
    "plt.hist(df['may'], bins=30, density=True)\n",
    "plt.title('May histogram')\n",
    "plt.xlabel('Value')\n",
    "plt.ylabel('Density')\n",
    "\n",
    "plt.subplot(1, 2, 2)\n",
    "plt.hist(df['august'], bins=30, density=True)\n",
    "plt.title('August histogram')\n",
    "plt.xlabel('Value')\n",
    "plt.ylabel('Density')\n",
    "\n",
    "plt.show()"
   ]
  },
  {
   "cell_type": "markdown",
   "metadata": {},
   "source": [
    "Both months seem to have a normal distribution. We will confirm it with the Shapiro test."
   ]
  },
  {
   "cell_type": "code",
   "execution_count": 143,
   "metadata": {},
   "outputs": [
    {
     "name": "stdout",
     "output_type": "stream",
     "text": [
      "Shapiro test - May: p-value=  0.79\n",
      "Shapiro test - August: p-value=  0.74\n",
      "May data follow a normal distribution with 95% confidence.\n",
      "August data follow a normal distribution with 95% confidence.\n"
     ]
    }
   ],
   "source": [
    "# Comprobar normalidad (Shapiro-Wilk)\n",
    "shapiro_may = shapiro(df['may'])\n",
    "shapiro_aug = shapiro(df['august'])\n",
    "print(\"Shapiro test - May: p-value= \", round(shapiro_may.pvalue,2))\n",
    "print(\"Shapiro test - August: p-value= \", round(shapiro_aug.pvalue,2))\n",
    "\n",
    "alpha = 0.05\n",
    "\n",
    "# Conclusion\n",
    "\n",
    "if shapiro_may.pvalue > alpha:\n",
    "    print(f'May data follow a normal distribution with 95% confidence.')\n",
    "else:\n",
    "    print(f'May data does not follow a normal distribution with 95% confidence.')\n",
    "\n",
    "# Conclusion\n",
    "if shapiro_aug.pvalue > alpha:\n",
    "    print(f'August data follow a normal distribution with 95% confidence.')\n",
    "else:\n",
    "    print(f'August data does not follow a normal distribution with 95% confidence.')"
   ]
  },
  {
   "cell_type": "markdown",
   "metadata": {},
   "source": [
    "# Paired samples T-test"
   ]
  },
  {
   "cell_type": "code",
   "execution_count": 144,
   "metadata": {},
   "outputs": [
    {
     "name": "stdout",
     "output_type": "stream",
     "text": [
      "May mean: 46.69\n",
      "August mean: 49.26\n"
     ]
    }
   ],
   "source": [
    "# Mean calculation\n",
    "print('May mean:', round(df['may'].mean(),2))\n",
    "print('August mean:', round(df['august'].mean(),2))"
   ]
  },
  {
   "cell_type": "code",
   "execution_count": 145,
   "metadata": {},
   "outputs": [
    {
     "data": {
      "text/html": [
       "<div>\n",
       "<style scoped>\n",
       "    .dataframe tbody tr th:only-of-type {\n",
       "        vertical-align: middle;\n",
       "    }\n",
       "\n",
       "    .dataframe tbody tr th {\n",
       "        vertical-align: top;\n",
       "    }\n",
       "\n",
       "    .dataframe thead th {\n",
       "        text-align: right;\n",
       "    }\n",
       "</style>\n",
       "<table border=\"1\" class=\"dataframe\">\n",
       "  <thead>\n",
       "    <tr style=\"text-align: right;\">\n",
       "      <th></th>\n",
       "      <th>id</th>\n",
       "      <th>may</th>\n",
       "      <th>august</th>\n",
       "      <th>diff</th>\n",
       "    </tr>\n",
       "  </thead>\n",
       "  <tbody>\n",
       "    <tr>\n",
       "      <th>0</th>\n",
       "      <td>1</td>\n",
       "      <td>34.92</td>\n",
       "      <td>37.21</td>\n",
       "      <td>2.29</td>\n",
       "    </tr>\n",
       "    <tr>\n",
       "      <th>1</th>\n",
       "      <td>2</td>\n",
       "      <td>53.77</td>\n",
       "      <td>56.89</td>\n",
       "      <td>3.12</td>\n",
       "    </tr>\n",
       "    <tr>\n",
       "      <th>2</th>\n",
       "      <td>3</td>\n",
       "      <td>50.82</td>\n",
       "      <td>54.10</td>\n",
       "      <td>3.28</td>\n",
       "    </tr>\n",
       "    <tr>\n",
       "      <th>3</th>\n",
       "      <td>4</td>\n",
       "      <td>41.97</td>\n",
       "      <td>45.25</td>\n",
       "      <td>3.28</td>\n",
       "    </tr>\n",
       "    <tr>\n",
       "      <th>4</th>\n",
       "      <td>5</td>\n",
       "      <td>44.43</td>\n",
       "      <td>47.87</td>\n",
       "      <td>3.44</td>\n",
       "    </tr>\n",
       "  </tbody>\n",
       "</table>\n",
       "</div>"
      ],
      "text/plain": [
       "   id    may  august  diff\n",
       "0   1  34.92   37.21  2.29\n",
       "1   2  53.77   56.89  3.12\n",
       "2   3  50.82   54.10  3.28\n",
       "3   4  41.97   45.25  3.28\n",
       "4   5  44.43   47.87  3.44"
      ]
     },
     "execution_count": 145,
     "metadata": {},
     "output_type": "execute_result"
    }
   ],
   "source": [
    "# Difference\n",
    "df['diff'] = df['august'] - df['may']\n",
    "df.head()"
   ]
  },
  {
   "cell_type": "code",
   "execution_count": 146,
   "metadata": {},
   "outputs": [
    {
     "name": "stdout",
     "output_type": "stream",
     "text": [
      "T statistic: 5.910704181002331\n",
      "P-value: 0.0\n",
      "Null hypothesis rejected. There is a significant difference between the means with 95% confidence.\n"
     ]
    }
   ],
   "source": [
    "# Paired samples T-test\n",
    "t_statistic, p_value = stats.ttest_1samp(df['diff'], 0)\n",
    "p_value = round(p_value,2)\n",
    "\n",
    "print('T statistic:', t_statistic)\n",
    "print('P-value:', p_value)\n",
    "\n",
    "# Conclusion\n",
    "alpha = 0.05\n",
    "if p_value < alpha:\n",
    "    print(rf'Null hypothesis rejected. There is a significant difference between the means with 95% confidence.')\n",
    "else:\n",
    "    print('Null hypothesis cannot be rejected. There is insufficient evidence to conclude that there is a difference.')"
   ]
  },
  {
   "cell_type": "markdown",
   "metadata": {},
   "source": [
    "We can conclude that the promotion was succefull and the revenue of the company increased."
   ]
  },
  {
   "cell_type": "markdown",
   "metadata": {},
   "source": [
    "# Customer segmentation - clustering"
   ]
  },
  {
   "cell_type": "code",
   "execution_count": 147,
   "metadata": {},
   "outputs": [
    {
     "name": "stderr",
     "output_type": "stream",
     "text": [
      "c:\\Users\\juanp\\anaconda3\\envs\\data_sc_practice\\Lib\\site-packages\\sklearn\\cluster\\_kmeans.py:1412: FutureWarning: The default value of `n_init` will change from 10 to 'auto' in 1.4. Set the value of `n_init` explicitly to suppress the warning\n",
      "  super()._check_params_vs_input(X, default_n_init=10)\n",
      "c:\\Users\\juanp\\anaconda3\\envs\\data_sc_practice\\Lib\\site-packages\\sklearn\\cluster\\_kmeans.py:1412: FutureWarning: The default value of `n_init` will change from 10 to 'auto' in 1.4. Set the value of `n_init` explicitly to suppress the warning\n",
      "  super()._check_params_vs_input(X, default_n_init=10)\n",
      "c:\\Users\\juanp\\anaconda3\\envs\\data_sc_practice\\Lib\\site-packages\\sklearn\\cluster\\_kmeans.py:1412: FutureWarning: The default value of `n_init` will change from 10 to 'auto' in 1.4. Set the value of `n_init` explicitly to suppress the warning\n",
      "  super()._check_params_vs_input(X, default_n_init=10)\n",
      "c:\\Users\\juanp\\anaconda3\\envs\\data_sc_practice\\Lib\\site-packages\\sklearn\\cluster\\_kmeans.py:1412: FutureWarning: The default value of `n_init` will change from 10 to 'auto' in 1.4. Set the value of `n_init` explicitly to suppress the warning\n",
      "  super()._check_params_vs_input(X, default_n_init=10)\n",
      "c:\\Users\\juanp\\anaconda3\\envs\\data_sc_practice\\Lib\\site-packages\\sklearn\\cluster\\_kmeans.py:1412: FutureWarning: The default value of `n_init` will change from 10 to 'auto' in 1.4. Set the value of `n_init` explicitly to suppress the warning\n",
      "  super()._check_params_vs_input(X, default_n_init=10)\n",
      "c:\\Users\\juanp\\anaconda3\\envs\\data_sc_practice\\Lib\\site-packages\\sklearn\\cluster\\_kmeans.py:1412: FutureWarning: The default value of `n_init` will change from 10 to 'auto' in 1.4. Set the value of `n_init` explicitly to suppress the warning\n",
      "  super()._check_params_vs_input(X, default_n_init=10)\n",
      "c:\\Users\\juanp\\anaconda3\\envs\\data_sc_practice\\Lib\\site-packages\\sklearn\\cluster\\_kmeans.py:1412: FutureWarning: The default value of `n_init` will change from 10 to 'auto' in 1.4. Set the value of `n_init` explicitly to suppress the warning\n",
      "  super()._check_params_vs_input(X, default_n_init=10)\n",
      "c:\\Users\\juanp\\anaconda3\\envs\\data_sc_practice\\Lib\\site-packages\\sklearn\\cluster\\_kmeans.py:1412: FutureWarning: The default value of `n_init` will change from 10 to 'auto' in 1.4. Set the value of `n_init` explicitly to suppress the warning\n",
      "  super()._check_params_vs_input(X, default_n_init=10)\n",
      "c:\\Users\\juanp\\anaconda3\\envs\\data_sc_practice\\Lib\\site-packages\\sklearn\\cluster\\_kmeans.py:1412: FutureWarning: The default value of `n_init` will change from 10 to 'auto' in 1.4. Set the value of `n_init` explicitly to suppress the warning\n",
      "  super()._check_params_vs_input(X, default_n_init=10)\n"
     ]
    },
    {
     "data": {
      "image/png": "[encoded data removed]",
      "text/plain": [
       "<Figure size 640x480 with 1 Axes>"
      ]
     },
     "metadata": {},
     "output_type": "display_data"
    }
   ],
   "source": [
    "# Select columns\n",
    "X = df[['may']].values\n",
    "\n",
    "# Determine optimal clusters with K-means\n",
    "wcss = []\n",
    "for k in range(1, 10):\n",
    "    kmeans = KMeans(n_clusters=k, random_state=42)\n",
    "    kmeans.fit(X)\n",
    "    wcss.append(kmeans.inertia_)\n",
    "\n",
    "# Plot the elbow curve\n",
    "plt.plot(range(1, 10), wcss, marker='o')\n",
    "plt.title('Elbow Method')\n",
    "plt.xlabel('Cluster number')\n",
    "plt.ylabel('WCSS')\n",
    "plt.show()"
   ]
  },
  {
   "cell_type": "markdown",
   "metadata": {},
   "source": [
    "The optimal number of clusters appears to be 4."
   ]
  },
  {
   "cell_type": "code",
   "execution_count": 148,
   "metadata": {},
   "outputs": [
    {
     "name": "stderr",
     "output_type": "stream",
     "text": [
      "c:\\Users\\juanp\\anaconda3\\envs\\data_sc_practice\\Lib\\site-packages\\sklearn\\cluster\\_kmeans.py:1412: FutureWarning: The default value of `n_init` will change from 10 to 'auto' in 1.4. Set the value of `n_init` explicitly to suppress the warning\n",
      "  super()._check_params_vs_input(X, default_n_init=10)\n"
     ]
    }
   ],
   "source": [
    "# Apply K-means with optimal number of clusters\n",
    "optimal_clusters = 4\n",
    "kmeans = KMeans(n_clusters=optimal_clusters, random_state=42)\n",
    "y_kmeans =  kmeans.fit_predict(X)\n",
    "\n",
    "# Add a new column to the dataframe with labels\n",
    "df['cluster'] = y_kmeans\n",
    "\n"
   ]
  },
  {
   "cell_type": "code",
   "execution_count": 149,
   "metadata": {},
   "outputs": [
    {
     "name": "stdout",
     "output_type": "stream",
     "text": [
      "Cluster 0:\n",
      "Lower limit: 37.69\n",
      "Superior limit: 46.12\n",
      "Cluster 1:\n",
      "Lower limit: 54.96\n",
      "Superior limit: 69.84\n",
      "Cluster 2:\n",
      "Lower limit: 46.23\n",
      "Superior limit: 54.84\n",
      "Cluster 3:\n",
      "Lower limit: 22.47\n",
      "Superior limit: 37.41\n"
     ]
    }
   ],
   "source": [
    "# Obtain the limits of the clusters\n",
    "for i in range(kmeans.n_clusters):\n",
    "    cluster_data = df[df['cluster'] == i]\n",
    "    print(f\"Cluster {i}:\")\n",
    "    print(f\"Lower limit: {cluster_data['may'].min()}\")\n",
    "    print(f\"Superior limit: {cluster_data['may'].max()}\")"
   ]
  },
  {
   "cell_type": "code",
   "execution_count": 150,
   "metadata": {},
   "outputs": [
    {
     "name": "stdout",
     "output_type": "stream",
     "text": [
      "   id    may  august  diff   cluster\n",
      "0   1  34.92   37.21  2.29       low\n",
      "1   2  53.77   56.89  3.12      high\n",
      "2   3  50.82   54.10  3.28      high\n",
      "3   4  41.97   45.25  3.28  moderate\n",
      "4   5  44.43   47.87  3.44  moderate\n"
     ]
    }
   ],
   "source": [
    "# Since the clusters are not ordered, name names have to be updated\n",
    "mapping = {0: 'moderate', 1: 'very high', 2: 'high', 3: 'low'}\n",
    "df['cluster'] = df['cluster'].map(mapping)\n",
    "\n",
    "print(df.head())"
   ]
  },
  {
   "cell_type": "code",
   "execution_count": 151,
   "metadata": {},
   "outputs": [
    {
     "name": "stdout",
     "output_type": "stream",
     "text": [
      "cluster\n",
      "high         182\n",
      "moderate     180\n",
      "very high     77\n",
      "low           60\n",
      "Name: count, dtype: int64\n"
     ]
    }
   ],
   "source": [
    "# Count observations per cluster\n",
    "cluster_count = df['cluster'].value_counts(ascending=False)\n",
    "print(cluster_count)"
   ]
  },
  {
   "cell_type": "code",
   "execution_count": 152,
   "metadata": {},
   "outputs": [
    {
     "name": "stdout",
     "output_type": "stream",
     "text": [
      "Categoría: high\n",
      "Statistic: 6563.5\n",
      "p-value: 0.01784947898205929\n",
      "\n",
      "Categoría: low\n",
      "Statistic: 51.0\n",
      "p-value: 3.0737615314033535e-10\n",
      "\n",
      "Categoría: moderate\n",
      "Statistic: 2811.5\n",
      "p-value: 2.559411007211024e-14\n",
      "\n",
      "Categoría: very high\n",
      "Statistic: 516.0\n",
      "p-value: 5.619832597286353e-07\n",
      "\n"
     ]
    }
   ],
   "source": [
    "# Group data by clusters\n",
    "grouped = df.groupby('cluster')\n",
    "\n",
    "# Perform Wilcoxon test for each cluster\n",
    "for name, group in grouped:\n",
    "    statistic, pvalue = stats.wilcoxon(group['may'], group['august'])\n",
    "    print(f\"Monthly spending group: {name}\")\n",
    "    print('Statistic:', statistic)\n",
    "    print('p-value:', pvalue)\n",
    "    print()"
   ]
  },
  {
   "cell_type": "markdown",
   "metadata": {},
   "source": [
    "The Wilcoxon signed-rank test revealed statistically significant differences between May and August monthly bills for all segments at a significance level of 0.05."
   ]
  },
  {
   "cell_type": "markdown",
   "metadata": {},
   "source": [
    "# Export Dataframe"
   ]
  },
  {
   "cell_type": "code",
   "execution_count": 153,
   "metadata": {},
   "outputs": [],
   "source": [
    "df.to_excel('df_telco_powerbi.xlsx', index=False)"
   ]
  }
 ],
 "metadata": {
  "kernelspec": {
   "display_name": "data_sc_practice",
   "language": "python",
   "name": "python3"
  },
  "language_info": {
   "codemirror_mode": {
    "name": "ipython",
    "version": 3
   },
   "file_extension": ".py",
   "mimetype": "text/x-python",
   "name": "python",
   "nbconvert_exporter": "python",
   "pygments_lexer": "ipython3",
   "version": "3.11.4"
  }
 },
 "nbformat": 4,
 "nbformat_minor": 2
}
